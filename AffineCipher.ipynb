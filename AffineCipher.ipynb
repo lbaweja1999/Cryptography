{
 "cells": [
  {
   "cell_type": "code",
   "execution_count": 1,
   "metadata": {},
   "outputs": [
    {
     "name": "stdout",
     "output_type": "stream",
     "text": [
      "enter plain text lakshay\n",
      "enter first key 3\n",
      "enter second key 2\n",
      "JCGEXCW"
     ]
    }
   ],
   "source": [
    "plt=input(\"enter plain text \")\n",
    "k1=int(input(\"enter first key \"))                       #Encryption\n",
    "k2=int(input(\"enter second key \"))\n",
    "for i in range(len(plt)):\n",
    "    char=plt[i]\n",
    "    v=(((ord(char)-97)*k1)+k2)%26\n",
    "    cipher=v+65\n",
    "\n",
    "\n",
    "    print(chr(cipher),end=\"\")"
   ]
  },
  {
   "cell_type": "code",
   "execution_count": 8,
   "metadata": {},
   "outputs": [
    {
     "name": "stdout",
     "output_type": "stream",
     "text": [
      "enter cipher text JCGEXCW\n",
      "enter first key 2\n",
      "enter second key 3\n",
      "ubxzgbh"
     ]
    }
   ],
   "source": [
    "plt=input(\"enter cipher text \")\n",
    "k1=int(input(\"enter first key \"))\n",
    "k2=int(input(\"enter second key \"))                    #Decryption\n",
    "b=26\n",
    "r1=k1\n",
    "r2=b\n",
    "t1=0\n",
    "t2=1\n",
    "while(r2>0):\n",
    "    q=r1//r2\n",
    "    r=r1%r2\n",
    "    r1=r2\n",
    "    r2=r\n",
    "    t=t1-(t2*q)\n",
    "    t1=t2\n",
    "    t2=t\n",
    "if(r1==1):\n",
    "    if(t1<0):\n",
    "        inv=t1+26\n",
    "        \n",
    "    else:\n",
    "        inv=t1\n",
    "\n",
    "for i in range(len(plt)):\n",
    "    char=plt[i]\n",
    "    v=(((ord(char)-65)-k2)*inv)%26\n",
    "    cipher=v+97\n",
    "\n",
    "\n",
    "    print(chr(cipher),end=\"\")\n",
    "        "
   ]
  },
  {
   "cell_type": "code",
   "execution_count": null,
   "metadata": {},
   "outputs": [],
   "source": []
  }
 ],
 "metadata": {
  "kernelspec": {
   "display_name": "Python 3",
   "language": "python",
   "name": "python3"
  },
  "language_info": {
   "codemirror_mode": {
    "name": "ipython",
    "version": 3
   },
   "file_extension": ".py",
   "mimetype": "text/x-python",
   "name": "python",
   "nbconvert_exporter": "python",
   "pygments_lexer": "ipython3",
   "version": "3.7.3"
  }
 },
 "nbformat": 4,
 "nbformat_minor": 2
}
