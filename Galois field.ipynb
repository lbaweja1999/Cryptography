{
 "cells": [
  {
   "cell_type": "code",
   "execution_count": 47,
   "metadata": {},
   "outputs": [
    {
     "name": "stdout",
     "output_type": "stream",
     "text": [
      "Enter the galois field power:4\n",
      "\n",
      "0 1 10 11 100 101 110 111 1000 1001 1010 1011 1100 1101 1110 1111 \n",
      "1 0 11 10 101 100 111 110 1001 1000 1011 1010 1101 1100 1111 1110 \n",
      "10 11 0 1 110 111 100 101 1010 1011 1000 1001 1110 1111 1100 1101 \n",
      "11 10 1 0 111 110 101 100 1011 1010 1001 1000 1111 1110 1101 1100 \n",
      "100 101 110 111 0 1 10 11 1100 1101 1110 1111 1000 1001 1010 1011 \n",
      "101 100 111 110 1 0 11 10 1101 1100 1111 1110 1001 1000 1011 1010 \n",
      "110 111 100 101 10 11 0 1 1110 1111 1100 1101 1010 1011 1000 1001 \n",
      "111 110 101 100 11 10 1 0 1111 1110 1101 1100 1011 1010 1001 1000 \n",
      "1000 1001 1010 1011 1100 1101 1110 1111 0 1 10 11 100 101 110 111 \n",
      "1001 1000 1011 1010 1101 1100 1111 1110 1 0 11 10 101 100 111 110 \n",
      "1010 1011 1000 1001 1110 1111 1100 1101 10 11 0 1 110 111 100 101 \n",
      "1011 1010 1001 1000 1111 1110 1101 1100 11 10 1 0 111 110 101 100 \n",
      "1100 1101 1110 1111 1000 1001 1010 1011 100 101 110 111 0 1 10 11 \n",
      "1101 1100 1111 1110 1001 1000 1011 1010 101 100 111 110 1 0 11 10 \n",
      "1110 1111 1100 1101 1010 1011 1000 1001 110 111 100 101 10 11 0 1 \n",
      "1111 1110 1101 1100 1011 1010 1001 1000 111 110 101 100 11 10 1 0 "
     ]
    }
   ],
   "source": [
    "import numpy as np\n",
    "power=int(input(\"Enter the galois field power:\"))\n",
    "length=pow(2,power)\n",
    "for i in range(length):\n",
    "    print()\n",
    "    for j in range(length):\n",
    "        n1=(i^j)%length\n",
    "        print(bin(n1).replace('0b',''),end=\" \")\n",
    "    "
   ]
  },
  {
   "cell_type": "code",
   "execution_count": 2,
   "metadata": {},
   "outputs": [
    {
     "name": "stdout",
     "output_type": "stream",
     "text": [
      "Enter galois field power3\n",
      "\n",
      "Addition table is:\n",
      "\n",
      "[['000' '001' '010' '011' '100' '101' '110' '111']\n",
      " ['001' '000' '011' '010' '101' '100' '111' '110']\n",
      " ['010' '011' '000' '001' '110' '111' '100' '101']\n",
      " ['011' '010' '001' '000' '111' '110' '101' '100']\n",
      " ['100' '101' '110' '111' '000' '001' '010' '011']\n",
      " ['101' '100' '111' '110' '001' '000' '011' '010']\n",
      " ['110' '111' '100' '101' '010' '011' '000' '001']\n",
      " ['111' '110' '101' '100' '011' '010' '001' '000']]\n",
      "\n",
      "Multiplication table is:\n",
      "\n",
      "[['000' '000' '000' '000' '000' '000' '000' '000']\n",
      " ['000' '001' '010' '011' '100' '101' '110' '111']\n",
      " ['000' '010' '100' '110' '101' '111' '001' '011']\n",
      " ['000' '011' '110' '101' '001' '010' '111' '100']\n",
      " ['000' '100' '101' '001' '111' '011' '010' '110']\n",
      " ['000' '101' '111' '010' '011' '110' '100' '001']\n",
      " ['000' '110' '001' '111' '010' '100' '011' '101']\n",
      " ['000' '111' '011' '100' '110' '001' '101' '010']]\n"
     ]
    }
   ],
   "source": [
    "import numpy as np\n",
    "\n",
    "n=int(input(\"Enter galois field power\"))\n",
    "\n",
    "g=[]\n",
    "h=[]\n",
    "\n",
    "f=pow(2,n)\n",
    "\n",
    "def am(f,n):\n",
    "    if n==1:\n",
    "        for i in range(f):\n",
    "            for j in range(f):\n",
    "                x=bin((i+j)%f).replace('0b','')\n",
    "                y=bin((i*j)%f).replace('0b','')\n",
    "                g.append(x)\n",
    "                h.append(y)\n",
    "    else:\n",
    "        for i in range(f):\n",
    "            for j in range(f):\n",
    "                x=bin(i).replace('0b','')\n",
    "                y=bin(j).replace('0b','')\n",
    "                z=bin(int(x,2)^int(y,2)).replace('0b','').zfill(3)\n",
    "                a=list(map(int, list(x)))\n",
    "                b=list(map(int, list(y)))\n",
    "                c=np.polymul(a,b)\n",
    "                d=[1]*(n+1)\n",
    "                if n%2==1:\n",
    "                    d[n-1]=0\n",
    "                q, r = np.polydiv(c, d)\n",
    "                e =  [int(abs(k))%2 for k in r]\n",
    "                l=list(map(str, e))\n",
    "                m=\"\".join(l)\n",
    "                o=bin(int(m,2)).replace('0b','').zfill(3)\n",
    "                g.append(z)\n",
    "                h.append(o)\n",
    "    a=np.array(g).reshape(f,f)\n",
    "    m=np.array(h).reshape(f,f)\n",
    "    return a,m\n",
    "\n",
    "a,m=am(f,n)\n",
    "print()\n",
    "print(\"Addition table is:\\n\")\n",
    "print(a)\n",
    "print()\n",
    "print(\"Multiplication table is:\\n\")\n",
    "print(m)"
   ]
  }
 ],
 "metadata": {
  "kernelspec": {
   "display_name": "Python 3",
   "language": "python",
   "name": "python3"
  },
  "language_info": {
   "codemirror_mode": {
    "name": "ipython",
    "version": 3
   },
   "file_extension": ".py",
   "mimetype": "text/x-python",
   "name": "python",
   "nbconvert_exporter": "python",
   "pygments_lexer": "ipython3",
   "version": "3.7.3"
  }
 },
 "nbformat": 4,
 "nbformat_minor": 2
}
