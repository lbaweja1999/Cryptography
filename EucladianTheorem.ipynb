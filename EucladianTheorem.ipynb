{
 "cells": [
  {
   "cell_type": "code",
   "execution_count": 2,
   "metadata": {},
   "outputs": [
    {
     "name": "stdout",
     "output_type": "stream",
     "text": [
      "Enter first number 2740\n",
      "Enter second number 1760\n",
      "GCD is 20\n",
      "s= 9\n",
      "t= -14\n"
     ]
    }
   ],
   "source": [
    "r1=int(input(\"Enter first number \"))\n",
    "r2=int(input(\"Enter second number \"))\n",
    "s1=1\n",
    "s2=0\n",
    "t1=0\n",
    "t2=1\n",
    "while(r2>0):\n",
    "    q=r1//r2\n",
    "    r=r1%r2\n",
    "    r1=r2\n",
    "    r2=r\n",
    "    s=s1-(s2*q)\n",
    "    t=t1-(t2*q)\n",
    "    s1=s2\n",
    "    s2=s\n",
    "    t1=t2\n",
    "    t2=t\n",
    "    gcd=r1\n",
    "print(\"GCD is \"+str(gcd))\n",
    "print(\"s= \"+str(s1))\n",
    "print(\"t= \"+str(t1))\n",
    "    \n",
    "    "
   ]
  },
  {
   "cell_type": "code",
   "execution_count": 2,
   "metadata": {},
   "outputs": [
    {
     "name": "stdout",
     "output_type": "stream",
     "text": [
      "Enter first number 2\n",
      "Enter second number 4\n",
      "GCD is 2\n"
     ]
    }
   ],
   "source": [
    "r1=int(input(\"Enter first number \"))\n",
    "r2=int(input(\"Enter second number \"))\n",
    "while(r2>0):\n",
    "    q=r1//r2\n",
    "    r=r1%r2\n",
    "    r1=r2\n",
    "    r2=r\n",
    "    gcd=r1\n",
    "print(\"GCD is \"+str(gcd))"
   ]
  },
  {
   "cell_type": "code",
   "execution_count": null,
   "metadata": {},
   "outputs": [],
   "source": []
  }
 ],
 "metadata": {
  "kernelspec": {
   "display_name": "Python 3",
   "language": "python",
   "name": "python3"
  },
  "language_info": {
   "codemirror_mode": {
    "name": "ipython",
    "version": 3
   },
   "file_extension": ".py",
   "mimetype": "text/x-python",
   "name": "python",
   "nbconvert_exporter": "python",
   "pygments_lexer": "ipython3",
   "version": "3.7.3"
  }
 },
 "nbformat": 4,
 "nbformat_minor": 2
}
