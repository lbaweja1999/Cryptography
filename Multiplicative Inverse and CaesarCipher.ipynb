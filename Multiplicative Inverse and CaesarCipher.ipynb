{
 "cells": [
  {
   "cell_type": "code",
   "execution_count": 1,
   "metadata": {},
   "outputs": [
    {
     "name": "stdout",
     "output_type": "stream",
     "text": [
      "enter first number: 11\n",
      "enter second number: 26\n",
      "GCD is 1\n",
      "Multiplicative inverse is  3\n"
     ]
    }
   ],
   "source": [
    "a=int(input(\"enter first number: \"))\n",
    "b=int(input(\"enter second number: \"))\n",
    "r1=a\n",
    "r2=b\n",
    "s1=1\n",
    "s2=0\n",
    "t1=0\n",
    "t2=1\n",
    "while(r2>0):\n",
    "    q=r1//r2\n",
    "    r=r1%r2\n",
    "    r1=r2\n",
    "    r2=r\n",
    "    t=t1-(t2*q)\n",
    "    t1=t2\n",
    "    t2=t\n",
    "print(\"GCD is \"+str(r1))\n",
    "if(r1==1):\n",
    "    if(t1<0):\n",
    "        inv=t1+a\n",
    "        print(\"Multiplicative inverse is \",inv)\n",
    "    else:\n",
    "        inv=t1\n",
    "        print(\"Multiplicative inverse is \",inv)\n",
    "else:\n",
    "    print(\"Multiplicative inverse not possible \"+str(r1))"
   ]
  },
  {
   "cell_type": "code",
   "execution_count": 4,
   "metadata": {},
   "outputs": [
    {
     "name": "stdout",
     "output_type": "stream",
     "text": [
      "enter plain text lakshay\n",
      "ODNVKDB"
     ]
    }
   ],
   "source": [
    "plt=input(\"enter plain text \")\n",
    "key=3\n",
    "for i in range(len(plt)):\n",
    "    char=plt[i]\n",
    "    v=((ord(char)-97)+key)%26\n",
    "    cipher=v+65\n",
    "\n",
    "\n",
    "    print(chr(cipher),end=\"\")"
   ]
  },
  {
   "cell_type": "code",
   "execution_count": 1,
   "metadata": {},
   "outputs": [
    {
     "name": "stdout",
     "output_type": "stream",
     "text": [
      "enter plain text lakshay\n",
      "Enter key 3\n",
      "IXHPEXV"
     ]
    }
   ],
   "source": [
    "plt=input(\"enter plain text \")\n",
    "key=int(input(\"Enter key \"))\n",
    "for i in range(len(plt)): \n",
    "        char =plt[i] \n",
    "  \n",
    "        if (char.isupper()): \n",
    "            result = (ord(char) - key-65) % 26 + 97\n",
    "\n",
    "        else: \n",
    "            result = (ord(char) - key - 97) % 26 + 65\n",
    "        print(chr(result),end=\"\")"
   ]
  },
  {
   "cell_type": "code",
   "execution_count": null,
   "metadata": {},
   "outputs": [],
   "source": []
  }
 ],
 "metadata": {
  "kernelspec": {
   "display_name": "Python 3",
   "language": "python",
   "name": "python3"
  },
  "language_info": {
   "codemirror_mode": {
    "name": "ipython",
    "version": 3
   },
   "file_extension": ".py",
   "mimetype": "text/x-python",
   "name": "python",
   "nbconvert_exporter": "python",
   "pygments_lexer": "ipython3",
   "version": "3.7.3"
  }
 },
 "nbformat": 4,
 "nbformat_minor": 2
}
