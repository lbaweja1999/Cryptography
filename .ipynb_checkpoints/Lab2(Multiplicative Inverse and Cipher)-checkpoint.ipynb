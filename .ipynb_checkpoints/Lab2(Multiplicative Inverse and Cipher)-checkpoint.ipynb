{
 "cells": [
  {
   "cell_type": "code",
   "execution_count": null,
   "metadata": {},
   "outputs": [],
   "source": [
    "r1=int(input(\"Enter first number \"))\n",
    "r2=int(input(\"Enter second number \"))\n",
    "t1=0\n",
    "t2=1\n",
    "while(r2>0):\n",
    "    q=r1//r2\n",
    "    r=r1%r2\n",
    "    r1=r2\n",
    "    r2=r\n",
    "    t=t1-(t2*q)\n",
    "    t1=t2\n",
    "    t2=t\n",
    "\n",
    "if(r1==1):\n",
    "    if(t1>=0 and t1<=r1):\n",
    "        \n",
    "        print(\"Multiplicative inverse is \",(t1))\n",
    "    else:\n",
    "        t1=t1+r1\n",
    "        \n",
    "        print('Multiplicative inverse is ',(t1))\n",
    "\n",
    "else:\n",
    "    print(\"Multiplicative inverse doesnt exists\")\n"
   ]
  }
 ],
 "metadata": {
  "kernelspec": {
   "display_name": "Python 3",
   "language": "python",
   "name": "python3"
  },
  "language_info": {
   "codemirror_mode": {
    "name": "ipython",
    "version": 3
   },
   "file_extension": ".py",
   "mimetype": "text/x-python",
   "name": "python",
   "nbconvert_exporter": "python",
   "pygments_lexer": "ipython3",
   "version": "3.7.3"
  }
 },
 "nbformat": 4,
 "nbformat_minor": 2
}
